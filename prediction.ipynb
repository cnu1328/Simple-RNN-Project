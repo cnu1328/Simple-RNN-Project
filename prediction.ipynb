{
 "cells": [
  {
   "cell_type": "code",
   "execution_count": 1,
   "metadata": {},
   "outputs": [],
   "source": [
    "import numpy as np\n",
    "import tensorflow as tf\n",
    "from tensorflow.keras.datasets import imdb\n",
    "from tensorflow.keras.preprocessing import sequence\n",
    "from tensorflow.keras.models import load_model"
   ]
  },
  {
   "cell_type": "code",
   "execution_count": 2,
   "metadata": {},
   "outputs": [],
   "source": [
    "# Load the IMDB dataset word index\n",
    "\n",
    "word_index =  imdb.get_word_index()\n",
    "reverse_word_index = {value: key for key, value in word_index.items()}"
   ]
  },
  {
   "cell_type": "code",
   "execution_count": 3,
   "metadata": {},
   "outputs": [
    {
     "name": "stderr",
     "output_type": "stream",
     "text": [
      "WARNING:absl:Compiled the loaded model, but the compiled metrics have yet to be built. `model.compile_metrics` will be empty until you train or evaluate the model.\n"
     ]
    },
    {
     "data": {
      "text/html": [
       "<pre style=\"white-space:pre;overflow-x:auto;line-height:normal;font-family:Menlo,'DejaVu Sans Mono',consolas,'Courier New',monospace\"><span style=\"font-weight: bold\">Model: \"sequential_3\"</span>\n",
       "</pre>\n"
      ],
      "text/plain": [
       "\u001b[1mModel: \"sequential_3\"\u001b[0m\n"
      ]
     },
     "metadata": {},
     "output_type": "display_data"
    },
    {
     "data": {
      "text/html": [
       "<pre style=\"white-space:pre;overflow-x:auto;line-height:normal;font-family:Menlo,'DejaVu Sans Mono',consolas,'Courier New',monospace\">┏━━━━━━━━━━━━━━━━━━━━━━━━━━━━━━━━━┳━━━━━━━━━━━━━━━━━━━━━━━━┳━━━━━━━━━━━━━━━┓\n",
       "┃<span style=\"font-weight: bold\"> Layer (type)                    </span>┃<span style=\"font-weight: bold\"> Output Shape           </span>┃<span style=\"font-weight: bold\">       Param # </span>┃\n",
       "┡━━━━━━━━━━━━━━━━━━━━━━━━━━━━━━━━━╇━━━━━━━━━━━━━━━━━━━━━━━━╇━━━━━━━━━━━━━━━┩\n",
       "│ embedding_3 (<span style=\"color: #0087ff; text-decoration-color: #0087ff\">Embedding</span>)         │ (<span style=\"color: #00d7ff; text-decoration-color: #00d7ff\">None</span>, <span style=\"color: #00af00; text-decoration-color: #00af00\">500</span>, <span style=\"color: #00af00; text-decoration-color: #00af00\">128</span>)       │       <span style=\"color: #00af00; text-decoration-color: #00af00\">128,000</span> │\n",
       "├─────────────────────────────────┼────────────────────────┼───────────────┤\n",
       "│ simple_rnn_2 (<span style=\"color: #0087ff; text-decoration-color: #0087ff\">SimpleRNN</span>)        │ (<span style=\"color: #00d7ff; text-decoration-color: #00d7ff\">None</span>, <span style=\"color: #00af00; text-decoration-color: #00af00\">128</span>)            │        <span style=\"color: #00af00; text-decoration-color: #00af00\">32,896</span> │\n",
       "├─────────────────────────────────┼────────────────────────┼───────────────┤\n",
       "│ dense_2 (<span style=\"color: #0087ff; text-decoration-color: #0087ff\">Dense</span>)                 │ (<span style=\"color: #00d7ff; text-decoration-color: #00d7ff\">None</span>, <span style=\"color: #00af00; text-decoration-color: #00af00\">1</span>)              │           <span style=\"color: #00af00; text-decoration-color: #00af00\">129</span> │\n",
       "└─────────────────────────────────┴────────────────────────┴───────────────┘\n",
       "</pre>\n"
      ],
      "text/plain": [
       "┏━━━━━━━━━━━━━━━━━━━━━━━━━━━━━━━━━┳━━━━━━━━━━━━━━━━━━━━━━━━┳━━━━━━━━━━━━━━━┓\n",
       "┃\u001b[1m \u001b[0m\u001b[1mLayer (type)                   \u001b[0m\u001b[1m \u001b[0m┃\u001b[1m \u001b[0m\u001b[1mOutput Shape          \u001b[0m\u001b[1m \u001b[0m┃\u001b[1m \u001b[0m\u001b[1m      Param #\u001b[0m\u001b[1m \u001b[0m┃\n",
       "┡━━━━━━━━━━━━━━━━━━━━━━━━━━━━━━━━━╇━━━━━━━━━━━━━━━━━━━━━━━━╇━━━━━━━━━━━━━━━┩\n",
       "│ embedding_3 (\u001b[38;5;33mEmbedding\u001b[0m)         │ (\u001b[38;5;45mNone\u001b[0m, \u001b[38;5;34m500\u001b[0m, \u001b[38;5;34m128\u001b[0m)       │       \u001b[38;5;34m128,000\u001b[0m │\n",
       "├─────────────────────────────────┼────────────────────────┼───────────────┤\n",
       "│ simple_rnn_2 (\u001b[38;5;33mSimpleRNN\u001b[0m)        │ (\u001b[38;5;45mNone\u001b[0m, \u001b[38;5;34m128\u001b[0m)            │        \u001b[38;5;34m32,896\u001b[0m │\n",
       "├─────────────────────────────────┼────────────────────────┼───────────────┤\n",
       "│ dense_2 (\u001b[38;5;33mDense\u001b[0m)                 │ (\u001b[38;5;45mNone\u001b[0m, \u001b[38;5;34m1\u001b[0m)              │           \u001b[38;5;34m129\u001b[0m │\n",
       "└─────────────────────────────────┴────────────────────────┴───────────────┘\n"
      ]
     },
     "metadata": {},
     "output_type": "display_data"
    },
    {
     "data": {
      "text/html": [
       "<pre style=\"white-space:pre;overflow-x:auto;line-height:normal;font-family:Menlo,'DejaVu Sans Mono',consolas,'Courier New',monospace\"><span style=\"font-weight: bold\"> Total params: </span><span style=\"color: #00af00; text-decoration-color: #00af00\">161,027</span> (629.02 KB)\n",
       "</pre>\n"
      ],
      "text/plain": [
       "\u001b[1m Total params: \u001b[0m\u001b[38;5;34m161,027\u001b[0m (629.02 KB)\n"
      ]
     },
     "metadata": {},
     "output_type": "display_data"
    },
    {
     "data": {
      "text/html": [
       "<pre style=\"white-space:pre;overflow-x:auto;line-height:normal;font-family:Menlo,'DejaVu Sans Mono',consolas,'Courier New',monospace\"><span style=\"font-weight: bold\"> Trainable params: </span><span style=\"color: #00af00; text-decoration-color: #00af00\">161,025</span> (629.00 KB)\n",
       "</pre>\n"
      ],
      "text/plain": [
       "\u001b[1m Trainable params: \u001b[0m\u001b[38;5;34m161,025\u001b[0m (629.00 KB)\n"
      ]
     },
     "metadata": {},
     "output_type": "display_data"
    },
    {
     "data": {
      "text/html": [
       "<pre style=\"white-space:pre;overflow-x:auto;line-height:normal;font-family:Menlo,'DejaVu Sans Mono',consolas,'Courier New',monospace\"><span style=\"font-weight: bold\"> Non-trainable params: </span><span style=\"color: #00af00; text-decoration-color: #00af00\">0</span> (0.00 B)\n",
       "</pre>\n"
      ],
      "text/plain": [
       "\u001b[1m Non-trainable params: \u001b[0m\u001b[38;5;34m0\u001b[0m (0.00 B)\n"
      ]
     },
     "metadata": {},
     "output_type": "display_data"
    },
    {
     "data": {
      "text/html": [
       "<pre style=\"white-space:pre;overflow-x:auto;line-height:normal;font-family:Menlo,'DejaVu Sans Mono',consolas,'Courier New',monospace\"><span style=\"font-weight: bold\"> Optimizer params: </span><span style=\"color: #00af00; text-decoration-color: #00af00\">2</span> (12.00 B)\n",
       "</pre>\n"
      ],
      "text/plain": [
       "\u001b[1m Optimizer params: \u001b[0m\u001b[38;5;34m2\u001b[0m (12.00 B)\n"
      ]
     },
     "metadata": {},
     "output_type": "display_data"
    }
   ],
   "source": [
    "model = load_model('simple_rnn_imdb.h5')\n",
    "model.summary()"
   ]
  },
  {
   "cell_type": "code",
   "execution_count": 4,
   "metadata": {},
   "outputs": [
    {
     "data": {
      "text/plain": [
       "[array([[-0.533734  , -0.8013335 , -0.7339777 , ...,  0.66145754,\n",
       "         -0.8741219 ,  0.86944413],\n",
       "        [-0.01390051, -0.06307243, -0.03199854, ..., -0.03062516,\n",
       "         -0.03923545,  0.04209102],\n",
       "        [-0.32328007, -0.11293159,  0.23683617, ..., -0.27168253,\n",
       "         -0.26421854,  0.07681271],\n",
       "        ...,\n",
       "        [-0.0144639 , -0.07756267,  0.0363465 , ...,  0.04009455,\n",
       "         -0.0465732 , -0.03174754],\n",
       "        [ 0.09864669, -0.11349938,  0.16803601, ...,  0.05218473,\n",
       "         -0.04099008, -0.15747817],\n",
       "        [ 0.04406838, -0.03681626,  0.03422419, ..., -0.01036796,\n",
       "          0.07672341, -0.12212066]], dtype=float32),\n",
       " array([[-0.11816373,  0.12428438,  0.03313368, ...,  0.07380656,\n",
       "         -0.18238018, -0.00328683],\n",
       "        [ 0.04252006,  0.08980345, -0.01265793, ..., -0.15387213,\n",
       "          0.00361539, -0.13853475],\n",
       "        [-0.02514269, -0.0136245 ,  0.03345265, ..., -0.05929859,\n",
       "          0.00423415,  0.01710113],\n",
       "        ...,\n",
       "        [-0.10268665, -0.08118746, -0.03284013, ...,  0.14860597,\n",
       "         -0.03877665,  0.11119707],\n",
       "        [ 0.0370263 , -0.1134274 , -0.02780681, ...,  0.08387359,\n",
       "         -0.09525544,  0.04958255],\n",
       "        [-0.03745199, -0.005769  , -0.1145636 , ..., -0.05211434,\n",
       "          0.05902498,  0.15323314]], dtype=float32),\n",
       " array([[ 0.05661171,  0.10069869,  0.06746714, ...,  0.1064283 ,\n",
       "         -0.05954045, -0.01444237],\n",
       "        [-0.09097091,  0.01063131,  0.02761488, ..., -0.09741193,\n",
       "         -0.00577307, -0.03393218],\n",
       "        [ 0.09468937,  0.02596578,  0.00324478, ...,  0.07916563,\n",
       "         -0.00032046,  0.02652614],\n",
       "        ...,\n",
       "        [-0.1319327 ,  0.01233941, -0.01920854, ...,  0.07462335,\n",
       "          0.0640921 , -0.06221378],\n",
       "        [ 0.11032054,  0.15642224, -0.06646034, ..., -0.06256358,\n",
       "         -0.02069351, -0.00797558],\n",
       "        [ 0.10136541,  0.28184736, -0.01245429, ..., -0.04595345,\n",
       "         -0.14544399,  0.01316357]], dtype=float32),\n",
       " array([ 0.0534888 ,  0.03615081, -0.02699659, -0.01562283, -0.03787994,\n",
       "        -0.02752993,  0.01928304, -0.02922919, -0.03738283, -0.0061679 ,\n",
       "         0.00741824, -0.00272996, -0.01327561, -0.0066944 , -0.03298996,\n",
       "         0.055844  ,  0.05048264, -0.02174678, -0.0266707 , -0.02729873,\n",
       "        -0.03552392, -0.05586042,  0.008603  ,  0.01525979, -0.00503839,\n",
       "        -0.02447881, -0.03849281, -0.01690528, -0.05432881, -0.01504532,\n",
       "        -0.04421373,  0.01463823,  0.00627755, -0.00980288, -0.03066869,\n",
       "        -0.03451965, -0.0343262 , -0.0314236 , -0.00186168, -0.00600903,\n",
       "        -0.01421377, -0.03834705,  0.01137542,  0.01638109,  0.0359068 ,\n",
       "        -0.03767088, -0.05342586, -0.01165987, -0.04812629, -0.02702451,\n",
       "        -0.02660684, -0.02656392, -0.02852075, -0.01750112, -0.042413  ,\n",
       "         0.02452287, -0.02046514, -0.06171955,  0.0199333 , -0.0404698 ,\n",
       "         0.04969037,  0.04041961,  0.01091067,  0.03361252, -0.06113997,\n",
       "        -0.05350178, -0.01268248, -0.02710722, -0.00810734,  0.00595067,\n",
       "         0.04383735,  0.0184158 , -0.04102657, -0.04496002, -0.03631353,\n",
       "        -0.02246648, -0.00222094, -0.01249615, -0.01309348, -0.00486744,\n",
       "         0.04617763,  0.02083936, -0.04085583,  0.01126861,  0.00932533,\n",
       "        -0.02759004, -0.04943823,  0.00787871, -0.07732655, -0.02511485,\n",
       "        -0.03478709,  0.01541298, -0.02463351, -0.03457055, -0.03347176,\n",
       "         0.01416908, -0.02854692, -0.00754094,  0.03873566, -0.02772707,\n",
       "        -0.01241913, -0.0111249 , -0.03267364, -0.02026246,  0.04026486,\n",
       "        -0.0274988 , -0.02548456,  0.04207504, -0.03926624, -0.03101376,\n",
       "        -0.0420551 ,  0.0416631 , -0.04639373,  0.01413573,  0.03771109,\n",
       "        -0.04855849,  0.04998609,  0.03761727, -0.00899541, -0.00595297,\n",
       "        -0.01166672, -0.03385108, -0.00467606,  0.01889733, -0.04141876,\n",
       "        -0.03677912,  0.04273702, -0.0030747 ], dtype=float32),\n",
       " array([[ 0.05968551],\n",
       "        [ 0.10530572],\n",
       "        [-0.19290416],\n",
       "        [ 0.01224859],\n",
       "        [-0.0403447 ],\n",
       "        [ 0.04050935],\n",
       "        [ 0.059344  ],\n",
       "        [-0.15067255],\n",
       "        [-0.08851737],\n",
       "        [ 0.48718655],\n",
       "        [ 0.10910886],\n",
       "        [-0.18811375],\n",
       "        [ 0.14215162],\n",
       "        [-0.37555224],\n",
       "        [-0.05482692],\n",
       "        [ 0.09264566],\n",
       "        [ 0.17389402],\n",
       "        [-0.23779458],\n",
       "        [-0.12552938],\n",
       "        [ 0.30189505],\n",
       "        [-0.14287238],\n",
       "        [ 0.1496714 ],\n",
       "        [-0.12833801],\n",
       "        [ 0.25747102],\n",
       "        [ 0.03843813],\n",
       "        [ 0.21412271],\n",
       "        [ 0.0623889 ],\n",
       "        [ 0.09054098],\n",
       "        [ 0.16352095],\n",
       "        [-0.06892522],\n",
       "        [-0.1944114 ],\n",
       "        [ 0.15644313],\n",
       "        [-0.40032402],\n",
       "        [-0.16431814],\n",
       "        [-0.24358277],\n",
       "        [ 0.15052566],\n",
       "        [ 0.23901755],\n",
       "        [ 0.20843679],\n",
       "        [-0.09378805],\n",
       "        [-0.07899915],\n",
       "        [ 0.1044508 ],\n",
       "        [-0.17193076],\n",
       "        [ 0.03167652],\n",
       "        [-0.18560444],\n",
       "        [ 0.15604585],\n",
       "        [ 0.25238165],\n",
       "        [-0.36253235],\n",
       "        [ 0.09972912],\n",
       "        [ 0.08472711],\n",
       "        [-0.02543156],\n",
       "        [ 0.1251567 ],\n",
       "        [-0.0599897 ],\n",
       "        [-0.17707926],\n",
       "        [-0.16409346],\n",
       "        [-0.10323764],\n",
       "        [ 0.1358159 ],\n",
       "        [ 0.10926082],\n",
       "        [ 0.09781315],\n",
       "        [-0.135817  ],\n",
       "        [ 0.09846778],\n",
       "        [ 0.1147003 ],\n",
       "        [-0.03470725],\n",
       "        [-0.10915641],\n",
       "        [ 0.03579811],\n",
       "        [-0.01961333],\n",
       "        [-0.06852414],\n",
       "        [ 0.13354309],\n",
       "        [-0.06946309],\n",
       "        [-0.14454322],\n",
       "        [ 0.18449304],\n",
       "        [ 0.16402501],\n",
       "        [ 0.16164808],\n",
       "        [-0.1363548 ],\n",
       "        [-0.08527149],\n",
       "        [ 0.05523068],\n",
       "        [-1.0614746 ],\n",
       "        [-0.00521559],\n",
       "        [ 0.22813529],\n",
       "        [-0.09113447],\n",
       "        [ 0.17377207],\n",
       "        [-0.01411567],\n",
       "        [ 0.07542122],\n",
       "        [ 0.08336403],\n",
       "        [-0.16280529],\n",
       "        [-0.1799066 ],\n",
       "        [-0.12586789],\n",
       "        [ 0.04001922],\n",
       "        [ 0.25307676],\n",
       "        [ 0.23605025],\n",
       "        [ 0.05052275],\n",
       "        [ 0.13605802],\n",
       "        [-0.03924203],\n",
       "        [-0.26545176],\n",
       "        [-0.00465683],\n",
       "        [-0.09684438],\n",
       "        [ 0.02399316],\n",
       "        [-0.05277666],\n",
       "        [ 0.13412242],\n",
       "        [-0.0090634 ],\n",
       "        [-0.02565096],\n",
       "        [ 0.17464727],\n",
       "        [ 0.07792688],\n",
       "        [ 0.24749154],\n",
       "        [ 0.13420917],\n",
       "        [-0.07477943],\n",
       "        [ 0.15124027],\n",
       "        [ 0.16824596],\n",
       "        [-0.04796718],\n",
       "        [ 0.02113494],\n",
       "        [ 0.12024529],\n",
       "        [-0.04028933],\n",
       "        [-0.16135463],\n",
       "        [-0.67928165],\n",
       "        [ 0.15010424],\n",
       "        [ 0.05386909],\n",
       "        [ 0.22344232],\n",
       "        [ 0.07456157],\n",
       "        [-0.11677318],\n",
       "        [ 0.07461367],\n",
       "        [ 0.21403839],\n",
       "        [ 0.14113812],\n",
       "        [-0.29563797],\n",
       "        [-0.24966827],\n",
       "        [ 0.1888779 ],\n",
       "        [-0.03576474],\n",
       "        [-0.100826  ],\n",
       "        [ 0.00673005],\n",
       "        [-0.09760824]], dtype=float32),\n",
       " array([-0.13832194], dtype=float32)]"
      ]
     },
     "execution_count": 4,
     "metadata": {},
     "output_type": "execute_result"
    }
   ],
   "source": [
    "model.get_weights()"
   ]
  },
  {
   "cell_type": "code",
   "execution_count": 5,
   "metadata": {},
   "outputs": [],
   "source": [
    "# Step 2 : Helper Functions\n",
    "# Function to decode reviews\n",
    "\n",
    "def decode_review(encoded_review):\n",
    "    return ' '.join([reverse_word_index.get(i - 3, '?') for i in encoded_review])\n",
    "\n",
    "# Function to preprocess user input\n",
    "\n",
    "def preprocess_text(text):\n",
    "    words=text.lower().split()\n",
    "    encoded_review = [word_index.get(word, 2) + 3 for word in words]\n",
    "    padded_review = sequence.pad_sequences([encoded_review], maxlen=500)\n",
    "    return padded_review"
   ]
  },
  {
   "cell_type": "code",
   "execution_count": 6,
   "metadata": {},
   "outputs": [],
   "source": [
    "## Prediction function\n",
    "\n",
    "def predict_sentiment(review):\n",
    "    preprocessed_input = preprocess_text(review)\n",
    "\n",
    "    prediction = model.predict(preprocessed_input)\n",
    "\n",
    "    sentiment = 'Positive' if prediction[0][0] > 0.5 else \"Negative\"\n",
    "\n",
    "    return sentiment, prediction[0][0]"
   ]
  },
  {
   "cell_type": "code",
   "execution_count": 7,
   "metadata": {},
   "outputs": [
    {
     "name": "stdout",
     "output_type": "stream",
     "text": [
      "\u001b[1m1/1\u001b[0m \u001b[32m━━━━━━━━━━━━━━━━━━━━\u001b[0m\u001b[37m\u001b[0m \u001b[1m0s\u001b[0m 278ms/step\n",
      "Review: This movie was fantastic! The acting was great and the plot was thrilling.\n",
      "Sentiment: Positive\n",
      "Prediction Score: 0.5263916254043579\n"
     ]
    }
   ],
   "source": [
    "# Step 4 : User Input and Prediction\n",
    "# Example review for prediction\n",
    "\n",
    "example_review = \"This movie was fantastic! The acting was great and the plot was thrilling.\"\n",
    "\n",
    "sentiment, score = predict_sentiment(example_review)\n",
    "\n",
    "print(f'Review: {example_review}')\n",
    "print(f'Sentiment: {sentiment}')\n",
    "print(f'Prediction Score: {score}')"
   ]
  }
 ],
 "metadata": {
  "kernelspec": {
   "display_name": "Python 3",
   "language": "python",
   "name": "python3"
  },
  "language_info": {
   "codemirror_mode": {
    "name": "ipython",
    "version": 3
   },
   "file_extension": ".py",
   "mimetype": "text/x-python",
   "name": "python",
   "nbconvert_exporter": "python",
   "pygments_lexer": "ipython3",
   "version": "3.12.0"
  }
 },
 "nbformat": 4,
 "nbformat_minor": 2
}
